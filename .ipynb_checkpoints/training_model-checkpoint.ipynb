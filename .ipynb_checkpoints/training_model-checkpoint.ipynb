{
 "cells": [
  {
   "cell_type": "code",
   "execution_count": null,
   "id": "c5faa95b-dad8-476f-baed-134fb2ac25e9",
   "metadata": {},
   "outputs": [],
   "source": [
    "import tensorflow as tf\n",
    "from tensorflow.keras import models, layers\n",
    "import matplotlib.pyplot as plt\n",
    "from IPython.display import HTML"
   ]
  },
  {
   "cell_type": "code",
   "execution_count": null,
   "id": "a8c5f656-67af-496d-acdb-f5a2b5ae2087",
   "metadata": {},
   "outputs": [],
   "source": [
    "IMAGE_SIZE = 256\n",
    "BATCH_SIZE = 32\n",
    "CHANNELS = 3\n",
    "EPOCHS = 50"
   ]
  },
  {
   "cell_type": "code",
   "execution_count": null,
   "id": "e363fd81-41be-4afd-84ca-6018080e5efa",
   "metadata": {},
   "outputs": [],
   "source": [
    "dataset = tf.keras.preprocessing.image_dataset_from_directory(\n",
    "    \"PlantVillage\",\n",
    "    shuffle=True,\n",
    "    image_size = (IMAGE_SIZE,IMAGE_SIZE),\n",
    "    batch_size = BATCH_SIZE\n",
    ")"
   ]
  },
  {
   "cell_type": "code",
   "execution_count": null,
   "id": "694ce952-d051-44df-85d6-fc5e32d58ebe",
   "metadata": {},
   "outputs": [],
   "source": [
    "classname = dataset.class_names\n",
    "classname"
   ]
  },
  {
   "cell_type": "code",
   "execution_count": null,
   "id": "fff82d61-6eef-4a87-a5b8-6ea9af641952",
   "metadata": {},
   "outputs": [],
   "source": [
    "plt.figure(figsize=(20,20))\n",
    "for image_batch, label_batch in dataset.take(1):\n",
    "    for i in range(12):\n",
    "        axis  = plt.subplot(3,4,i+1);\n",
    "        plt.imshow(image_batch[i].numpy().astype(\"uint8\"))\n",
    "        plt.title(classname[label_batch[i]])                                      "
   ]
  },
  {
   "cell_type": "code",
   "execution_count": null,
   "id": "823b6816-cbd4-4aaa-bda8-cf74bdf2e42f",
   "metadata": {},
   "outputs": [],
   "source": [
    "length = len(dataset)\n",
    "length\n",
    "#Actual Data set will be 68 * 32"
   ]
  },
  {
   "cell_type": "code",
   "execution_count": null,
   "id": "328040a1-39b0-45c3-be40-22e3cdf5c4ae",
   "metadata": {},
   "outputs": [],
   "source": [
    "train_dataset = 0.8\n",
    "len(dataset)*train_dataset"
   ]
  },
  {
   "cell_type": "code",
   "execution_count": null,
   "id": "4e9bf71a-4f8b-4568-bfba-1e0a29262acb",
   "metadata": {},
   "outputs": [],
   "source": [
    "take_dataset_for_training = dataset.take(54)\n",
    "len(take_dataset_for_training)"
   ]
  },
  {
   "cell_type": "code",
   "execution_count": null,
   "id": "a7b0b689-5d3a-4a15-84d4-7016eb377b58",
   "metadata": {},
   "outputs": [],
   "source": [
    "left_dataset_for_testval = dataset.skip(54)\n",
    "len(left_dataset_for_testval )"
   ]
  },
  {
   "cell_type": "code",
   "execution_count": null,
   "id": "1e0ed01a-d0e0-4b22-883b-68c8e20bfa9c",
   "metadata": {},
   "outputs": [],
   "source": [
    "validation_dataset_size = 0.1\n",
    "len(dataset) * validation_dataset_size"
   ]
  },
  {
   "cell_type": "code",
   "execution_count": null,
   "id": "17dec89b-7aef-4d4d-ade9-76f3dd17910b",
   "metadata": {},
   "outputs": [],
   "source": [
    "take_dataset_for_val = left_dataset_for_testval.take(6)\n",
    "len(take_dataset_for_val)"
   ]
  },
  {
   "cell_type": "code",
   "execution_count": null,
   "id": "338300d6-3a82-4e98-b747-093e2daa1e2d",
   "metadata": {},
   "outputs": [],
   "source": [
    "take_dataset_for_test = left_dataset_for_testval.skip(6)\n",
    "len(take_dataset_for_test)"
   ]
  },
  {
   "cell_type": "code",
   "execution_count": null,
   "id": "f2bd89f3-5b0c-42a3-ac9f-e976dc789c11",
   "metadata": {},
   "outputs": [],
   "source": [
    "def get_dataset_partitions_tf(ds, train_split=0.8, val_split=0.1, test_split=0.1, shuffle=True, shuffle_size=10000):\n",
    "  \n",
    "    \n",
    "    dataset_size = len(ds)\n",
    "    \n",
    "    if shuffle:\n",
    "        ds = ds.shuffle(shuffle_size, seed=12)\n",
    "    \n",
    "    train_size = int(train_split * dataset_size)\n",
    "    val_size = int(val_split * dataset_size)\n",
    "    test_size = int(test_split * dataset_size)\n",
    "    \n",
    "    train_ds = ds.take(train_size)\n",
    "    val_ds = ds.skip(train_size).take(val_size)\n",
    "    test_ds = ds.skip(train_size).skip(test_size)\n",
    "    \n",
    "    return train_ds, val_ds, test_ds\n"
   ]
  },
  {
   "cell_type": "code",
   "execution_count": null,
   "id": "06f6d2e0-d288-4619-8276-1152aad67278",
   "metadata": {},
   "outputs": [],
   "source": [
    "train_ds, val_ds, test_ds = get_dataset_partitions_tf(dataset)"
   ]
  },
  {
   "cell_type": "code",
   "execution_count": null,
   "id": "6c0cb4c0-9347-4f23-8886-b4a893b51a23",
   "metadata": {},
   "outputs": [],
   "source": [
    "print(f\"train_ds: {len(train_ds)}, val_ds: {len(val_ds)}, test_ds: {len(test_ds)}\")\n"
   ]
  },
  {
   "cell_type": "code",
   "execution_count": null,
   "id": "07e3bfca-c512-45e4-a845-a3ab942ac70f",
   "metadata": {},
   "outputs": [],
   "source": [
    "#caching and prefetching the data\n",
    "\n",
    "train_ds = train_ds.cache().shuffle(1000).prefetch(buffer_size = tf.data.AUTOTUNE)\n",
    "val_ds = val_ds.cache().shuffle(1000).prefetch(buffer_size = tf.data.AUTOTUNE)\n",
    "test_ds = test_ds.cache().shuffle(1000).prefetch(buffer_size = tf.data.AUTOTUNE)"
   ]
  },
  {
   "cell_type": "code",
   "execution_count": null,
   "id": "03c5f45c-fd71-48c5-850b-3b2817946f80",
   "metadata": {},
   "outputs": [],
   "source": [
    "# Processing of the DATASET using Image Processing\n",
    "\n",
    "resize_rescale_data = tf.keras.Sequential([\n",
    "    layers.Resizing(IMAGE_SIZE,IMAGE_SIZE),\n",
    "    layers.Rescaling(1.0/255),\n",
    "])"
   ]
  },
  {
   "cell_type": "code",
   "execution_count": null,
   "id": "b641e4e6-6f4c-40db-8018-1e45248369bd",
   "metadata": {},
   "outputs": [],
   "source": [
    "# Data Augmentation\n",
    "\n",
    "data_augmentation = tf.keras.Sequential([\n",
    "    layers.RandomFlip(\"horizontal_and_vertical\"),\n",
    "    layers.Rescaling(0.2)\n",
    "])"
   ]
  },
  {
   "cell_type": "code",
   "execution_count": null,
   "id": "11806662-d408-49a7-aea8-365e53477ce9",
   "metadata": {},
   "outputs": [],
   "source": [
    "input_shape = (BATCH_SIZE,IMAGE_SIZE,IMAGE_SIZE,CHANNELS)\n",
    "classdec = 3\n",
    "model = models.Sequential([\n",
    "    resize_rescale_data,\n",
    "    data_augmentation,\n",
    "    layers.Conv2D(32, kernel_size=(3,3), activation='relu', input_shape= input_shape),\n",
    "    layers.MaxPooling2D((2,2)),\n",
    "    layers.Conv2D(64, kernel_size=(3,3), activation='relu'),\n",
    "    layers.MaxPooling2D((2,2)),\n",
    "    layers.Conv2D(64, kernel_size=(3,3), activation='relu'),\n",
    "    layers.MaxPooling2D((2,2)),\n",
    "    layers.Conv2D(64,(3,3), activation='relu'),\n",
    "    layers.MaxPooling2D((2,2)),\n",
    "    layers.Conv2D(64,(3,3), activation='relu'),\n",
    "    layers.MaxPooling2D((2,2)),\n",
    "    layers.Flatten(),\n",
    "    layers.Dense(64, activation='relu'),\n",
    "    layers.Dense(classdec, activation='softmax'),\n",
    "])\n",
    "model.build(input_shape= input_shape)"
   ]
  },
  {
   "cell_type": "code",
   "execution_count": null,
   "id": "909c04c7-430b-46e5-8464-4055f1a7fcea",
   "metadata": {},
   "outputs": [],
   "source": [
    "model.summary()"
   ]
  },
  {
   "cell_type": "code",
   "execution_count": null,
   "id": "41d3aa37-5204-423f-b59d-f7cc0287120d",
   "metadata": {},
   "outputs": [],
   "source": [
    "model.compile(\n",
    "    optimizer='adam',\n",
    "    loss=tf.keras.losses.SparseCategoricalCrossentropy(from_logits=False),\n",
    "    metrics=['accuracy']\n",
    ")"
   ]
  },
  {
   "cell_type": "code",
   "execution_count": null,
   "id": "e1a60798-d484-4173-bef1-5ca8cfed2697",
   "metadata": {},
   "outputs": [],
   "source": [
    "# Training the Data with the last Data\n",
    "\n",
    "lastdata = model.fit(\n",
    "    train_ds,\n",
    "    batch_size = BATCH_SIZE,\n",
    "    validation_data = val_ds,\n",
    "    verbose=1,\n",
    "    epochs = EPOCHS\n",
    ")"
   ]
  },
  {
   "cell_type": "code",
   "execution_count": null,
   "id": "99e897cb-7a24-4d4b-b73d-140e96a87c5c",
   "metadata": {},
   "outputs": [],
   "source": [
    "testscores = model.evaluate(test_ds)"
   ]
  },
  {
   "cell_type": "code",
   "execution_count": null,
   "id": "672f4c80-f17b-44f8-bc1e-5abf593545f4",
   "metadata": {},
   "outputs": [],
   "source": [
    "lastdata.history['accuracy']"
   ]
  },
  {
   "cell_type": "code",
   "execution_count": null,
   "id": "bdae8355-76e5-4ec7-93e1-bc9efba375ec",
   "metadata": {},
   "outputs": [],
   "source": [
    "acc = history.history['accuracy']\n",
    "val_acc = history.history['val_accuracy']\n",
    "\n",
    "loss = history.history['loss']\n",
    "val_loss = history.history['val_loss']"
   ]
  },
  {
   "cell_type": "code",
   "execution_count": null,
   "id": "840d7d60-f0a3-459e-84cd-56df6e4f7d0a",
   "metadata": {},
   "outputs": [],
   "source": [
    "plt.figure(figsize=(8, 8))\n",
    "plt.subplot(1, 2, 1)\n",
    "plt.plot(range(EPOCHS), acc, label='Training Accuracy')\n",
    "plt.plot(range(EPOCHS), val_acc, label='Validation Accuracy')\n",
    "plt.legend(loc='lower right')\n",
    "plt.title('Training and Validation Accuracy')\n",
    "\n",
    "plt.subplot(1, 2, 2)\n",
    "plt.plot(range(EPOCHS), loss, label='Training Loss')\n",
    "plt.plot(range(EPOCHS), val_loss, label='Validation Loss')\n",
    "plt.legend(loc='upper right')\n",
    "plt.title('Training and Validation Loss')\n",
    "plt.show()"
   ]
  },
  {
   "cell_type": "code",
   "execution_count": null,
   "id": "3c7c76f1-dde1-4407-83d6-51a7755af94a",
   "metadata": {},
   "outputs": [],
   "source": []
  },
  {
   "cell_type": "code",
   "execution_count": null,
   "id": "5c0d735f-e7d6-4116-8156-40de3c63f155",
   "metadata": {},
   "outputs": [],
   "source": []
  },
  {
   "cell_type": "code",
   "execution_count": null,
   "id": "0c137d61-42c9-4dad-8303-46a64e30b88e",
   "metadata": {},
   "outputs": [],
   "source": []
  }
 ],
 "metadata": {
  "kernelspec": {
   "display_name": "Python 3 (ipykernel)",
   "language": "python",
   "name": "python3"
  },
  "language_info": {
   "codemirror_mode": {
    "name": "ipython",
    "version": 3
   },
   "file_extension": ".py",
   "mimetype": "text/x-python",
   "name": "python",
   "nbconvert_exporter": "python",
   "pygments_lexer": "ipython3",
   "version": "3.12.3"
  }
 },
 "nbformat": 4,
 "nbformat_minor": 5
}
